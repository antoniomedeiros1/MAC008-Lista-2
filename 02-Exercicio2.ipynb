{
 "cells": [
  {
   "cell_type": "markdown",
   "metadata": {},
   "source": [
    "# Exercício 2\n",
    "\n"
   ]
  },
  {
   "cell_type": "markdown",
   "metadata": {},
   "source": [
    "## Enunciado\n",
    "\n",
    "Para a viga em balanço da figura abaixo tratada como um problema de Estado Plano de Tensões determine a matriz de rigidez e o vetor de forças para as seguintes discretizações:\n",
    "\n",
    "a) Com 2 elementos triangulares lineares conforme mostrado nesta figura.\n",
    "\n",
    "b) Com 1 elemento retangular com os nós 1,2,3 e 4.\n",
    "\n",
    "Determine os deslocamentos livres considerando os nós 3 e 4 presos(deslocamentos nulos). \n",
    "\n",
    "Determine também os valores das tensões, segundo o sistema de eixos indicado nos pontos nodais e nos pontos centrais dos elementos considerados. Considere o carregamento indicado nesta figura com a distribuição de carga onde p = 150*(N+1)/20 . Adotar E (200.000) e Poisson(0.3) indicados na figura. Atente para trabalhar com unidades coerentes e que a espessura também está dada (t = 1). Utilize para as medidas do domínio o valor a = b = 4 + (N-1)/20.\n"
   ]
  },
  {
   "cell_type": "markdown",
   "metadata": {},
   "source": [
    "![](ex2.png)"
   ]
  },
  {
   "cell_type": "markdown",
   "metadata": {},
   "source": [
    "## Resolução"
   ]
  },
  {
   "cell_type": "markdown",
   "metadata": {},
   "source": [
    "### Substituindo N\n",
    "\n",
    "Temos que $N = 1$, logo as dimensões do domínio serão:\n",
    "\n",
    "$$\n",
    "a = b = 4\n",
    "$$\n",
    "\n",
    "### Coordenadas dos nós\n",
    "\n",
    "* Nó 1: $(4,4)$\n",
    "* Nó 2: $(4,0)$\n",
    "* Nó 3: $(0,4)$\n",
    "* Nó 4: $(0,0)$\n",
    "\n",
    "### Nós dos elementos\n",
    "\n",
    "* Elemento 1: (1, 2, 3)\n",
    "* Elemento 2: (2, 3, 4)\n"
   ]
  },
  {
   "cell_type": "markdown",
   "metadata": {},
   "source": [
    "### a) Elementos Triangulares"
   ]
  },
  {
   "cell_type": "markdown",
   "metadata": {},
   "source": [
    "#### Funções de Forma\n",
    "\n",
    "Claro, vamos detalhar melhor os passos 2 e 3 para a formulação da matriz de rigidez de elementos triangulares em estado plano de tensões, focando nas funções de forma e nas relações de deformação e tensão.\n",
    "\n",
    "Para um elemento triangular com três nós (nós 1, 2, e 3), as funções de forma lineares $ N_1 $, $ N_2 $, e $ N_3 $ podem ser definidas em termos das coordenadas dos nós. Sejam $ (x_i, y_i) $ as coordenadas dos nós $ i = 1, 2, 3 $, as funções de forma são:\n",
    "\n",
    "$$ N_i = a_i + b_i x + c_i y $$\n",
    "\n",
    "Onde $ a_i $, $ b_i $, e $ c_i $ são constantes determinadas pela geometria do elemento e podem ser calculadas usando a fórmula:\n",
    "\n",
    "$$ a_i = \\frac{x_j y_k - x_k y_j}{2A}, \\quad b_i = \\frac{y_j - y_k}{2A}, \\quad c_i = \\frac{x_k - x_j}{2A} $$\n",
    "\n",
    "Aqui, $ (j, k) $ é um par de índices que são diferentes de $ i $, e $ A $ é a área do elemento triangular."
   ]
  },
  {
   "cell_type": "markdown",
   "metadata": {},
   "source": [
    "#### Deformação e Tensão\n",
    "\n",
    "A deformação em um elemento plano pode ser expressa em termos dos deslocamentos nodais. Para um elemento triangular, os deslocamentos nodais são $ u_1, v_1, u_2, v_2, u_3, v_3 $, onde $ u $ e $ v $ são os deslocamentos nos eixos $ x $ e $ y $, respectivamente. A matriz de deformação $ [B] $ relaciona a deformação com os deslocamentos nodais:\n",
    "\n",
    "$$\n",
    "[B] = \\begin{bmatrix}\n",
    "\\frac{\\partial N_1}{\\partial x} & 0 & \\frac{\\partial N_2}{\\partial x} & 0 & \\frac{\\partial N_3}{\\partial x} & 0 \\\\\n",
    "0 & \\frac{\\partial N_1}{\\partial y} & 0 & \\frac{\\partial N_2}{\\partial y} & 0 & \\frac{\\partial N_3}{\\partial y} \\\\\n",
    "\\frac{\\partial N_1}{\\partial y} & \\frac{\\partial N_1}{\\partial x} & \\frac{\\partial N_2}{\\partial y} & \\frac{\\partial N_2}{\\partial x} & \\frac{\\partial N_3}{\\partial y} & \\frac{\\partial N_3}{\\partial x}\n",
    "\\end{bmatrix}\n",
    "$$\n",
    "\n",
    "As tensões são relacionadas às deformações pela lei de Hooke para materiais isotrópicos e homogêneos. A matriz de elasticidade $ [D] $ para estado plano de tensões é:\n",
    "\n",
    "$$\n",
    "[D] = \\frac{E}{(1-\\nu^2)} \\begin{bmatrix}\n",
    "1 & \\nu & 0 \\\\\n",
    "\\nu & 1 & 0 \\\\\n",
    "0 & 0 & \\frac{1-\\nu}{2}\n",
    "\\end{bmatrix}\n",
    "$$\n",
    "\n",
    "Onde $ E $ é o módulo de elasticidade e $ \\nu $ é o coeficiente de Poisson.\n",
    "\n",
    "A relação entre tensão e deformação é dada por:\n",
    "\n",
    "$$\n",
    "[\\sigma] = [D][\\epsilon]\n",
    "$$\n",
    "\n",
    "Onde $ [\\sigma] $ é a matriz de tensão e $ [\\epsilon] $ é a matriz de deformação.\n",
    "\n",
    "Combinando essas relações, podemos calcular a matriz de rigidez local para o elemento. É importante notar que, na prática, a aplicação destas fórmulas e a integração necessária para calcular a matriz de rigidez podem exigir um conhecimento detalhado de métodos numéricos, especialmente para elementos de formas mais complexas ou materiais não homogêneos."
   ]
  },
  {
   "cell_type": "markdown",
   "metadata": {},
   "source": [
    "#### Montagem da Matriz de Rigidez\n"
   ]
  },
  {
   "cell_type": "markdown",
   "metadata": {},
   "source": [
    "A matriz de rigidez $K$ de um elemento triangular em estado plano de tensões é expressa por:\n",
    "\n",
    "$$\n",
    "[K] = \\int _A [B]^T[D][B]dA\n",
    "$$\n",
    "\n",
    "$$\n",
    "K = tAB^T DB\n",
    "$$\n",
    "\n",
    "onde:\n",
    "\n",
    "* $t$ é a espessura do elemento,\n",
    "* $A$ é a área do elemento triangular,\n",
    "* $B$ é a matriz de gradiente de deslocamento\n",
    "* $D$ é a matriz de elasticidade plana.\n",
    "\n",
    "A matriz de elasticidade $D$ é dada por:\n",
    "\n",
    "$$\n",
    "D = \\dfrac{E}{1 - \\nu^2}\n",
    "\\begin{bmatrix}\n",
    "1 & \\nu & 0 \\\\\n",
    "\\nu & 1 & 0 \\\\\n",
    "0 & 0 & \\dfrac{1 - \\nu}{2}\n",
    "\\end{bmatrix}\n",
    "$$\n",
    "\n",
    "A matriz de deformação $B$ para um elemento triangular é derivada das coordenadas dos nós do elemento e é dada por:\n",
    "\n",
    "$$\n",
    "B = \\dfrac{1}{2A}\n",
    "\\begin{bmatrix}\n",
    "b_1 & 0 & b_2 & 0 & b_3 & 0 \\\\\n",
    "0 & c_1 & 0 & c_2 & 0 & c_3 \\\\\n",
    "c_1 & b_1 & c_2 & b_2 & c_3 & b_3\n",
    "\\end{bmatrix}\n",
    "$$\n",
    "\n",
    "onde $b_i$ e $c_i$ são as coordedanas do nó $i$ do elemento."
   ]
  },
  {
   "cell_type": "code",
   "execution_count": 23,
   "metadata": {},
   "outputs": [],
   "source": [
    "import numpy as np\n",
    "import sympy as sp\n",
    "\n",
    "# Propriedades do material\n",
    "E = 200000  # Módulo de elasticidade (N/mm²)\n",
    "nu = 0.3    # Coeficiente de Poisson\n",
    "t = 1       # Espessura da viga (mm)\n",
    "\n",
    "# Dimensões da viga\n",
    "a = b = 4   # Dimensões para N = 1\n",
    "\n",
    "# Carga aplicada\n",
    "p = 150 * (1 + 1) / 20\n",
    "\n",
    "# Coordenadas dos nós (em mm)\n",
    "nodes = np.array([\n",
    "    [a, b],  # Nó 1\n",
    "    [a, 0],  # Nó 2\n",
    "    [0, b],  # Nó 3\n",
    "    [0, 0],  # Nó 4\n",
    "])\n",
    "\n",
    "# Elementos (triângulos) definidos pelos nós\n",
    "elements = np.array([\n",
    "    [1, 2, 3],  # Elemento 1\n",
    "    [2, 3, 4]   # Elemento 2\n",
    "])\n",
    "\n",
    "# Número de nós e elementos\n",
    "num_nodes = len(nodes)\n",
    "num_elements = len(elements)\n",
    "\n",
    "# Função para calcular a matriz de rigidez de um elemento triangular linear\n",
    "def stiffness_matrix_triangle_linear(element, nodes, E, nu, t):\n",
    "    # Coordenadas dos nós do elemento\n",
    "    x = nodes[element - 1, 0]\n",
    "    y = nodes[element - 1, 1]\n",
    "\n",
    "    # Área do elemento\n",
    "    A = 0.5 * np.linalg.det(np.array([[1, x[0], y[0]],\n",
    "                                      [1, x[1], y[1]],\n",
    "                                      [1, x[2], y[2]]]))\n",
    "\n",
    "    # Matriz B\n",
    "    B = 1 / (2 * A) * np.array([\n",
    "        [y[1] - y[2], 0, y[2] - y[0], 0, y[0] - y[1], 0],\n",
    "        [0, x[2] - x[1], 0, x[0] - x[2], 0, x[1] - x[0]],\n",
    "        [x[2] - x[1], y[1] - y[2], x[0] - x[2], y[2] - y[0], x[1] - x[0], y[0] - y[1]]\n",
    "    ])\n",
    "\n",
    "    print('Matriz B do elemento {}:'.format(element))\n",
    "    display(sp.Matrix(B))\n",
    "\n",
    "    # Matriz de elasticidade plana\n",
    "    D = E / (1 - nu**2) * np.array([\n",
    "        [1, nu, 0],\n",
    "        [nu, 1, 0],\n",
    "        [0, 0, (1 - nu) / 2]\n",
    "    ])\n",
    "\n",
    "    print('Matriz D do elemento {}:'.format(element))\n",
    "    display(sp.Matrix(D))\n",
    "\n",
    "    # Matriz de rigidez do elemento\n",
    "    k = t * A * np.dot(np.dot(B.T, D), B)\n",
    "\n",
    "    return k\n"
   ]
  },
  {
   "cell_type": "code",
   "execution_count": 24,
   "metadata": {},
   "outputs": [
    {
     "name": "stdout",
     "output_type": "stream",
     "text": [
      "Matriz B do elemento [1 2 3]:\n"
     ]
    },
    {
     "data": {
      "text/latex": [
       "$\\displaystyle \\left[\\begin{matrix}0.25 & 0 & 0 & 0 & -0.25 & 0\\\\0 & 0.25 & 0 & -0.25 & 0 & 0\\\\0.25 & 0.25 & -0.25 & 0 & 0 & -0.25\\end{matrix}\\right]$"
      ],
      "text/plain": [
       "Matrix([\n",
       "[0.25,    0,     0,     0, -0.25,     0],\n",
       "[   0, 0.25,     0, -0.25,     0,     0],\n",
       "[0.25, 0.25, -0.25,     0,     0, -0.25]])"
      ]
     },
     "metadata": {},
     "output_type": "display_data"
    },
    {
     "name": "stdout",
     "output_type": "stream",
     "text": [
      "Matriz D do elemento [1 2 3]:\n"
     ]
    },
    {
     "data": {
      "text/latex": [
       "$\\displaystyle \\left[\\begin{matrix}219780.21978022 & 65934.0659340659 & 0\\\\65934.0659340659 & 219780.21978022 & 0\\\\0 & 0 & 76923.0769230769\\end{matrix}\\right]$"
      ],
      "text/plain": [
       "Matrix([\n",
       "[ 219780.21978022, 65934.0659340659,                0],\n",
       "[65934.0659340659,  219780.21978022,                0],\n",
       "[               0,                0, 76923.0769230769]])"
      ]
     },
     "metadata": {},
     "output_type": "display_data"
    },
    {
     "name": "stdout",
     "output_type": "stream",
     "text": [
      "Matriz de Rigidez para o elemento 1:\n"
     ]
    },
    {
     "data": {
      "text/latex": [
       "$\\displaystyle \\left[\\begin{matrix}-1.48 \\cdot 10^{5} & -7.14 \\cdot 10^{4} & 3.85 \\cdot 10^{4} & 3.3 \\cdot 10^{4} & 1.1 \\cdot 10^{5} & 3.85 \\cdot 10^{4}\\\\-7.14 \\cdot 10^{4} & -1.48 \\cdot 10^{5} & 3.85 \\cdot 10^{4} & 1.1 \\cdot 10^{5} & 3.3 \\cdot 10^{4} & 3.85 \\cdot 10^{4}\\\\3.85 \\cdot 10^{4} & 3.85 \\cdot 10^{4} & -3.85 \\cdot 10^{4} & 0 & 0 & -3.85 \\cdot 10^{4}\\\\3.3 \\cdot 10^{4} & 1.1 \\cdot 10^{5} & 0 & -1.1 \\cdot 10^{5} & -3.3 \\cdot 10^{4} & 0\\\\1.1 \\cdot 10^{5} & 3.3 \\cdot 10^{4} & 0 & -3.3 \\cdot 10^{4} & -1.1 \\cdot 10^{5} & 0\\\\3.85 \\cdot 10^{4} & 3.85 \\cdot 10^{4} & -3.85 \\cdot 10^{4} & 0 & 0 & -3.85 \\cdot 10^{4}\\end{matrix}\\right]$"
      ],
      "text/plain": [
       "Matrix([\n",
       "[-1.48e+5, -7.14e+4,  3.85e+4,  3.3e+4,  1.1e+5,  3.85e+4],\n",
       "[-7.14e+4, -1.48e+5,  3.85e+4,  1.1e+5,  3.3e+4,  3.85e+4],\n",
       "[ 3.85e+4,  3.85e+4, -3.85e+4,       0,       0, -3.85e+4],\n",
       "[  3.3e+4,   1.1e+5,        0, -1.1e+5, -3.3e+4,        0],\n",
       "[  1.1e+5,   3.3e+4,        0, -3.3e+4, -1.1e+5,        0],\n",
       "[ 3.85e+4,  3.85e+4, -3.85e+4,       0,       0, -3.85e+4]])"
      ]
     },
     "metadata": {},
     "output_type": "display_data"
    }
   ],
   "source": [
    "k1 = stiffness_matrix_triangle_linear(elements[0], nodes, E, nu, t)\n",
    "print('Matriz de Rigidez para o elemento 1:')\n",
    "display(sp.Matrix(k1).evalf(3))"
   ]
  },
  {
   "cell_type": "code",
   "execution_count": 25,
   "metadata": {},
   "outputs": [
    {
     "name": "stdout",
     "output_type": "stream",
     "text": [
      "Matriz B do elemento [2 3 4]:\n"
     ]
    },
    {
     "data": {
      "text/latex": [
       "$\\displaystyle \\left[\\begin{matrix}0.25 & 0 & 0 & 0 & -0.25 & 0\\\\0 & 0 & 0 & 0.25 & 0 & -0.25\\\\0 & 0.25 & 0.25 & 0 & -0.25 & -0.25\\end{matrix}\\right]$"
      ],
      "text/plain": [
       "Matrix([\n",
       "[0.25,    0,    0,    0, -0.25,     0],\n",
       "[   0,    0,    0, 0.25,     0, -0.25],\n",
       "[   0, 0.25, 0.25,    0, -0.25, -0.25]])"
      ]
     },
     "metadata": {},
     "output_type": "display_data"
    },
    {
     "name": "stdout",
     "output_type": "stream",
     "text": [
      "Matriz D do elemento [2 3 4]:\n"
     ]
    },
    {
     "data": {
      "text/latex": [
       "$\\displaystyle \\left[\\begin{matrix}219780.21978022 & 65934.0659340659 & 0\\\\65934.0659340659 & 219780.21978022 & 0\\\\0 & 0 & 76923.0769230769\\end{matrix}\\right]$"
      ],
      "text/plain": [
       "Matrix([\n",
       "[ 219780.21978022, 65934.0659340659,                0],\n",
       "[65934.0659340659,  219780.21978022,                0],\n",
       "[               0,                0, 76923.0769230769]])"
      ]
     },
     "metadata": {},
     "output_type": "display_data"
    },
    {
     "name": "stdout",
     "output_type": "stream",
     "text": [
      "Matriz de Rigidez para o elemento 2:\n"
     ]
    },
    {
     "data": {
      "text/latex": [
       "$\\displaystyle \\left[\\begin{matrix}1.1 \\cdot 10^{5} & 0 & 0 & 3.3 \\cdot 10^{4} & -1.1 \\cdot 10^{5} & -3.3 \\cdot 10^{4}\\\\0 & 3.85 \\cdot 10^{4} & 3.85 \\cdot 10^{4} & 0 & -3.85 \\cdot 10^{4} & -3.85 \\cdot 10^{4}\\\\0 & 3.85 \\cdot 10^{4} & 3.85 \\cdot 10^{4} & 0 & -3.85 \\cdot 10^{4} & -3.85 \\cdot 10^{4}\\\\3.3 \\cdot 10^{4} & 0 & 0 & 1.1 \\cdot 10^{5} & -3.3 \\cdot 10^{4} & -1.1 \\cdot 10^{5}\\\\-1.1 \\cdot 10^{5} & -3.85 \\cdot 10^{4} & -3.85 \\cdot 10^{4} & -3.3 \\cdot 10^{4} & 1.48 \\cdot 10^{5} & 7.14 \\cdot 10^{4}\\\\-3.3 \\cdot 10^{4} & -3.85 \\cdot 10^{4} & -3.85 \\cdot 10^{4} & -1.1 \\cdot 10^{5} & 7.14 \\cdot 10^{4} & 1.48 \\cdot 10^{5}\\end{matrix}\\right]$"
      ],
      "text/plain": [
       "Matrix([\n",
       "[ 1.1e+5,        0,        0,  3.3e+4,  -1.1e+5,  -3.3e+4],\n",
       "[      0,  3.85e+4,  3.85e+4,       0, -3.85e+4, -3.85e+4],\n",
       "[      0,  3.85e+4,  3.85e+4,       0, -3.85e+4, -3.85e+4],\n",
       "[ 3.3e+4,        0,        0,  1.1e+5,  -3.3e+4,  -1.1e+5],\n",
       "[-1.1e+5, -3.85e+4, -3.85e+4, -3.3e+4,  1.48e+5,  7.14e+4],\n",
       "[-3.3e+4, -3.85e+4, -3.85e+4, -1.1e+5,  7.14e+4,  1.48e+5]])"
      ]
     },
     "metadata": {},
     "output_type": "display_data"
    }
   ],
   "source": [
    "k2 = stiffness_matrix_triangle_linear(elements[1], nodes, E, nu, t)\n",
    "print('Matriz de Rigidez para o elemento 2:')\n",
    "display(sp.Matrix(k2).evalf(3))"
   ]
  },
  {
   "cell_type": "markdown",
   "metadata": {},
   "source": [
    "#### Matriz de Rigidez Global"
   ]
  },
  {
   "cell_type": "code",
   "execution_count": 11,
   "metadata": {},
   "outputs": [
    {
     "name": "stdout",
     "output_type": "stream",
     "text": [
      "Matriz de rigidez global:\n"
     ]
    },
    {
     "data": {
      "text/latex": [
       "$\\displaystyle \\left[\\begin{matrix}-1.48 \\cdot 10^{5} & -7.14 \\cdot 10^{4} & 3.85 \\cdot 10^{4} & 3.3 \\cdot 10^{4} & 1.1 \\cdot 10^{5} & 3.85 \\cdot 10^{4} & 0 & 0\\\\-7.14 \\cdot 10^{4} & -1.48 \\cdot 10^{5} & 3.85 \\cdot 10^{4} & 1.1 \\cdot 10^{5} & 3.3 \\cdot 10^{4} & 3.85 \\cdot 10^{4} & 0 & 0\\\\3.85 \\cdot 10^{4} & 3.85 \\cdot 10^{4} & 7.14 \\cdot 10^{4} & 0 & 0 & -5.5 \\cdot 10^{3} & -1.1 \\cdot 10^{5} & -3.3 \\cdot 10^{4}\\\\3.3 \\cdot 10^{4} & 1.1 \\cdot 10^{5} & 0 & -7.14 \\cdot 10^{4} & 5.5 \\cdot 10^{3} & 0 & -3.85 \\cdot 10^{4} & -3.85 \\cdot 10^{4}\\\\1.1 \\cdot 10^{5} & 3.3 \\cdot 10^{4} & 0 & 5.5 \\cdot 10^{3} & -7.14 \\cdot 10^{4} & 0 & -3.85 \\cdot 10^{4} & -3.85 \\cdot 10^{4}\\\\3.85 \\cdot 10^{4} & 3.85 \\cdot 10^{4} & -5.5 \\cdot 10^{3} & 0 & 0 & 7.14 \\cdot 10^{4} & -3.3 \\cdot 10^{4} & -1.1 \\cdot 10^{5}\\\\0 & 0 & -1.1 \\cdot 10^{5} & -3.85 \\cdot 10^{4} & -3.85 \\cdot 10^{4} & -3.3 \\cdot 10^{4} & 1.48 \\cdot 10^{5} & 7.14 \\cdot 10^{4}\\\\0 & 0 & -3.3 \\cdot 10^{4} & -3.85 \\cdot 10^{4} & -3.85 \\cdot 10^{4} & -1.1 \\cdot 10^{5} & 7.14 \\cdot 10^{4} & 1.48 \\cdot 10^{5}\\end{matrix}\\right]$"
      ],
      "text/plain": [
       "Matrix([\n",
       "[-1.48e+5, -7.14e+4, 3.85e+4,   3.3e+4,   1.1e+5, 3.85e+4,        0,        0],\n",
       "[-7.14e+4, -1.48e+5, 3.85e+4,   1.1e+5,   3.3e+4, 3.85e+4,        0,        0],\n",
       "[ 3.85e+4,  3.85e+4, 7.14e+4,        0,        0, -5.5e+3,  -1.1e+5,  -3.3e+4],\n",
       "[  3.3e+4,   1.1e+5,       0, -7.14e+4,   5.5e+3,       0, -3.85e+4, -3.85e+4],\n",
       "[  1.1e+5,   3.3e+4,       0,   5.5e+3, -7.14e+4,       0, -3.85e+4, -3.85e+4],\n",
       "[ 3.85e+4,  3.85e+4, -5.5e+3,        0,        0, 7.14e+4,  -3.3e+4,  -1.1e+5],\n",
       "[       0,        0, -1.1e+5, -3.85e+4, -3.85e+4, -3.3e+4,  1.48e+5,  7.14e+4],\n",
       "[       0,        0, -3.3e+4, -3.85e+4, -3.85e+4, -1.1e+5,  7.14e+4,  1.48e+5]])"
      ]
     },
     "metadata": {},
     "output_type": "display_data"
    }
   ],
   "source": [
    "# Inicialização da matriz de rigidez global\n",
    "K_global = np.zeros((2 * num_nodes, 2 * num_nodes))\n",
    "\n",
    "# Montagem da matriz de rigidez global\n",
    "for element in elements:\n",
    "    k_local = stiffness_matrix_triangle_linear(element, nodes, E, nu, t)\n",
    "    for i in range(3):\n",
    "        for j in range(3):\n",
    "            for k in range(2):\n",
    "                for l in range(2):\n",
    "                    K_global[2 * (element[i] - 1) + k, 2 * (element[j] - 1) + l] += k_local[2 * i + k, 2 * j + l]\n",
    "\n",
    "# Exibindo a matriz de rigidez global\n",
    "print('Matriz de rigidez global:')\n",
    "display(sp.Matrix(K_global).evalf(3))"
   ]
  },
  {
   "cell_type": "markdown",
   "metadata": {},
   "source": [
    "#### Vetor de Forças\n",
    "\n",
    "O vetor de forças para cada nó devido a uma carga distribuída é calculado integrando a carga sobre o elemento:\n",
    "\n",
    "$$\n",
    "[F] = \\int _A [S]^Tp dA\n",
    "$$\n",
    "\n",
    "onde:\n",
    "\n",
    "$$\n",
    "S = \n",
    "\\begin{bmatrix}\n",
    "S_i & 0 & S_j & 0 & S_k & 0 \\\\\n",
    "0 & S_i & 0 & S_j & 0 & S_k\\\\\n",
    "\\end{bmatrix} \\\\\n",
    "$$\n",
    "\n",
    "$S_i = (1-\\frac{x}{a})(1-\\frac{y}{b})$\n",
    "\n",
    "$S_j = \\frac{x}{a}(1 - \\frac{y}{b})$\n",
    "\n",
    "$S_k = \\frac{x}{a} \\frac{y}{b}$"
   ]
  },
  {
   "cell_type": "code",
   "execution_count": 15,
   "metadata": {},
   "outputs": [
    {
     "name": "stdout",
     "output_type": "stream",
     "text": [
      "Vetor de forças externas:\n"
     ]
    },
    {
     "data": {
      "text/latex": [
       "$\\displaystyle \\left[\\begin{matrix}120.0\\\\0\\\\120.0\\\\0\\\\0\\\\0\\end{matrix}\\right]$"
      ],
      "text/plain": [
       "Matrix([\n",
       "[120.0],\n",
       "[    0],\n",
       "[120.0],\n",
       "[    0],\n",
       "[    0],\n",
       "[    0]])"
      ]
     },
     "metadata": {},
     "output_type": "display_data"
    }
   ],
   "source": [
    "def calcula_vetor_forca(p, t):   \n",
    "    F = np.zeros(6)\n",
    "    F[0:3:2] = p * a * b / 2\n",
    "    return F * t\n",
    "\n",
    "F_global = calcula_vetor_forca(p, t)\n",
    "\n",
    "print('Vetor de forças externas:')\n",
    "display(sp.Matrix(F_global).evalf(3))"
   ]
  },
  {
   "cell_type": "markdown",
   "metadata": {},
   "source": [
    "#### Aplicando Condições de Contorno"
   ]
  },
  {
   "cell_type": "markdown",
   "metadata": {},
   "source": [
    "Conforme o enunciado, consideraremos os nós 3 e 4 como fixos."
   ]
  },
  {
   "cell_type": "code",
   "execution_count": 19,
   "metadata": {},
   "outputs": [],
   "source": [
    "# Aplicação das condições de contorno (nós 3 e 4 fixos)\n",
    "fixed_nodes = [3, 4]\n",
    "free_dof = np.setdiff1d(np.arange(2 * num_nodes), np.array([2 * (node - 1) for node in fixed_nodes] + [2 * node - 1 for node in fixed_nodes]))\n",
    "\n",
    "# Redução da matriz de rigidez e do vetor de forças para os graus de liberdade livres\n",
    "K_reduced = K_global[np.ix_(free_dof, free_dof)]\n",
    "\n",
    "# Redução do vetor de forças\n",
    "F_reduced = F_global[free_dof]"
   ]
  },
  {
   "cell_type": "markdown",
   "metadata": {},
   "source": [
    "#### Deslocamentos\n"
   ]
  },
  {
   "cell_type": "markdown",
   "metadata": {},
   "source": [
    "Resolvendo o sistema para determinar $u$, chegamos em:"
   ]
  },
  {
   "cell_type": "code",
   "execution_count": 20,
   "metadata": {},
   "outputs": [
    {
     "name": "stdout",
     "output_type": "stream",
     "text": [
      "Deslocamentos:\n",
      "Nó 1: (0.00156000, -0.00713143)\n",
      "Nó 2: (0.00468000, -0.01025143)\n",
      "Nó 3: (0.00000000, 0.00000000)\n",
      "Nó 4: (0.00000000, 0.00000000)\n"
     ]
    }
   ],
   "source": [
    "# Resolvendo o sistema para obter os deslocamentos nos graus de liberdade livres\n",
    "u_free = np.linalg.solve(K_reduced, F_reduced)\n",
    "\n",
    "# Montagem do vetor de deslocamentos completo (incluindo zeros para graus de liberdade fixos)\n",
    "u = np.zeros(2 * num_nodes)\n",
    "u[free_dof] = u_free\n",
    "\n",
    "print('Deslocamentos:')\n",
    "for node in range(num_nodes):\n",
    "    print('Nó {}: ({:.8f}, {:.8f})'.format(node + 1, u[2 * node], u[2 * node + 1]))\n"
   ]
  },
  {
   "cell_type": "markdown",
   "metadata": {},
   "source": [
    "#### Cálculo das Tensões\n",
    "\n"
   ]
  },
  {
   "cell_type": "code",
   "execution_count": 27,
   "metadata": {},
   "outputs": [
    {
     "name": "stdout",
     "output_type": "stream",
     "text": [
      "Tensões nos elementos:\n",
      "Elemento 1: (137.14, 197.14, -197.14) Pa\n",
      "Elemento 2: (257.14, 77.14, -197.14) Pa\n"
     ]
    }
   ],
   "source": [
    "def stress_triangle_linear(element, nodes, u, E, nu):\n",
    "    # Coordenadas dos nós do elemento\n",
    "    x = nodes[element - 1, 0]\n",
    "    y = nodes[element - 1, 1]\n",
    "\n",
    "    # Área do elemento\n",
    "    A = 0.5 * np.linalg.det(np.array([[1, x[0], y[0]],\n",
    "                                      [1, x[1], y[1]],\n",
    "                                      [1, x[2], y[2]]]))\n",
    "\n",
    "    # Matriz B\n",
    "    B = 1 / (2 * A) * np.array([\n",
    "        [y[1] - y[2], 0, y[2] - y[0], 0, y[0] - y[1], 0],\n",
    "        [0, x[2] - x[1], 0, x[0] - x[2], 0, x[1] - x[0]],\n",
    "        [x[2] - x[1], y[1] - y[2], x[0] - x[2], y[2] - y[0], x[1] - x[0], y[0] - y[1]]\n",
    "    ])\n",
    "\n",
    "    # Matriz de elasticidade plana\n",
    "    D = E / (1 - nu**2) * np.array([\n",
    "        [1, nu, 0],\n",
    "        [nu, 1, 0],\n",
    "        [0, 0, (1 - nu) / 2]\n",
    "    ])\n",
    "\n",
    "    # Vetor de deslocamentos do elemento\n",
    "    u_element = np.array([u[2 * (node - 1):2 * node] for node in element]).flatten()\n",
    "\n",
    "    # Cálculo das tensões\n",
    "    stress = np.dot(D, np.dot(B, u_element))\n",
    "\n",
    "    return stress\n",
    "\n",
    "# Correção e cálculo das tensões\n",
    "stresses = np.zeros((num_elements, 3))  # Inicializando o vetor de tensões\n",
    "\n",
    "# Cálculo das tensões para cada elemento\n",
    "for i, element in enumerate(elements):\n",
    "    stresses[i] = stress_triangle_linear(element, nodes, u, E, nu)\n",
    "\n",
    "print('Tensões nos elementos:')\n",
    "for element in range(num_elements):\n",
    "    print('Elemento {}: ({:.2f}, {:.2f}, {:.2f}) Pa'.format(element + 1, stresses[element, 0], stresses[element, 1], stresses[element, 2]))"
   ]
  },
  {
   "cell_type": "markdown",
   "metadata": {},
   "source": [
    "### b) Elemento Retangular"
   ]
  },
  {
   "cell_type": "markdown",
   "metadata": {},
   "source": [
    "\n",
    "\n",
    "#### Funções de Forma\n",
    "As funções de forma para elementos retangulares são bilineares e dependem das coordenadas dos nós.\n",
    "\n",
    "#### Deformação e Tensão:\n",
    "\n",
    "Para um elemento retangular em análise de elementos finitos, as funções de forma são tipicamente bilineares. Supondo um elemento retangular com quatro nós, as funções de forma podem ser expressas em termos das coordenadas locais $\\xi$ e $\\eta$, que variam de -1 a 1. Para cada nó $i$, a função de forma $N_i(\\xi, \\eta)$ é definida como:\n",
    "\n",
    "- Para o nó 1 (canto inferior esquerdo): $N_1 = \\frac{1}{4}(1-\\xi)(1-\\eta)$\n",
    "- Para o nó 2 (canto inferior direito): $N_2 = \\frac{1}{4}(1+\\xi)(1-\\eta)$\n",
    "- Para o nó 3 (canto superior direito): $N_3 = \\frac{1}{4}(1+\\xi)(1+\\eta)$\n",
    "- Para o nó 4 (canto superior esquerdo): $N_4 = \\frac{1}{4}(1-\\xi)(1+\\eta)$\n",
    "\n",
    "\n",
    "A relação entre tensão e deformação em um estado plano de tensões é dada pela lei de Hooke. Para um material isotrópico linear elástico, a matriz de elasticidade $[D]$ é usada para relacionar a tensão $\\sigma$ à deformação $\\varepsilon$:\n",
    "\n",
    "$$\n",
    "[D] = \\frac{E}{(1-\\nu^2)}\\begin{bmatrix} 1 & \\nu & 0 \\\\ \\nu & 1 & 0 \\\\ 0 & 0 & \\frac{1-\\nu}{2} \\end{bmatrix}\n",
    "$$\n",
    "\n",
    "Onde $E$ é o módulo de elasticidade e $\\nu$ é o coeficiente de Poisson do material. A tensão $\\sigma$ é então calculada como $\\sigma = [D]\\varepsilon$.\n",
    "\n",
    "\n",
    "A relação deformação-deslocamento é expressa como $\\varepsilon = [B]\\{d\\}$, onde $\\{d\\}$ é o vetor dos deslocamentos nodais.\n"
   ]
  },
  {
   "cell_type": "markdown",
   "metadata": {},
   "source": [
    "#### Cálculo das Matrizes de Rigidez\n",
    "\n",
    "A formulação é similar: \n",
    "$$\n",
    "[K] = \\int_A [B]^T [D] [B] \\, dA\n",
    "$$"
   ]
  },
  {
   "cell_type": "code",
   "execution_count": 30,
   "metadata": {},
   "outputs": [
    {
     "name": "stdout",
     "output_type": "stream",
     "text": [
      "Matriz de rigidez para um elemento retangular:\n"
     ]
    },
    {
     "data": {
      "text/latex": [
       "$\\displaystyle \\left[\\begin{matrix}1.78 & 0.889 & -0.444 & -0.889 & -0.889 & -0.444 & -0.444 & 0\\\\0.889 & 1.78 & 0 & -0.444 & -0.444 & -0.889 & -0.889 & -0.444\\\\-0.444 & 0 & 1.78 & 0.889 & 0.444 & 0 & -0.889 & -0.444\\\\-0.889 & -0.444 & 0.889 & 1.78 & 0 & 0.444 & -0.444 & -0.889\\\\-0.889 & -0.444 & 0.444 & 0 & 1.78 & 0.889 & -0.444 & 0\\\\-0.444 & -0.889 & 0 & 0.444 & 0.889 & 1.78 & 0 & -0.444\\\\-0.444 & -0.889 & -0.889 & -0.444 & -0.444 & 0 & 1.78 & 0.889\\\\0 & -0.444 & -0.444 & -0.889 & 0 & -0.444 & 0.889 & 1.78\\end{matrix}\\right]$"
      ],
      "text/plain": [
       "Matrix([\n",
       "[  1.78,  0.889, -0.444, -0.889, -0.889, -0.444, -0.444,      0],\n",
       "[ 0.889,   1.78,      0, -0.444, -0.444, -0.889, -0.889, -0.444],\n",
       "[-0.444,      0,   1.78,  0.889,  0.444,      0, -0.889, -0.444],\n",
       "[-0.889, -0.444,  0.889,   1.78,      0,  0.444, -0.444, -0.889],\n",
       "[-0.889, -0.444,  0.444,      0,   1.78,  0.889, -0.444,      0],\n",
       "[-0.444, -0.889,      0,  0.444,  0.889,   1.78,      0, -0.444],\n",
       "[-0.444, -0.889, -0.889, -0.444, -0.444,      0,   1.78,  0.889],\n",
       "[     0, -0.444, -0.444, -0.889,      0, -0.444,  0.889,   1.78]])"
      ]
     },
     "metadata": {},
     "output_type": "display_data"
    }
   ],
   "source": [
    "import numpy as np\n",
    "\n",
    "# Propriedades do material\n",
    "E = 200000  # Módulo de elasticidade (N/mm²)\n",
    "nu = 0.3    # Coeficiente de Poisson\n",
    "t = 1       # Espessura da viga (mm)\n",
    "\n",
    "# Dimensões da viga para N = 1\n",
    "a = b = 4   # Dimensões\n",
    "\n",
    "# Carga aplicada\n",
    "p = 150 * (1 + 1) / 20\n",
    "\n",
    "# Coordenadas dos nós (em mm)\n",
    "nodes = np.array([\n",
    "    [0, 0],  # Nó 1\n",
    "    [a, 0],  # Nó 2\n",
    "    [a, b],  # Nó 3\n",
    "    [0, b]   # Nó 4\n",
    "])\n",
    "\n",
    "# Número de nós\n",
    "num_nodes = len(nodes)\n",
    "\n",
    "# Função para calcular a matriz de rigidez de um elemento retangular\n",
    "def stiffness_matrix_rectangular(E, nu, t, a, b):\n",
    "    # Matriz de elasticidade plana\n",
    "    D = E / (1 - nu**2) * np.array([\n",
    "        [1, nu, 0],\n",
    "        [nu, 1, 0],\n",
    "        [0, 0, (1 - nu) / 2]\n",
    "    ])\n",
    "\n",
    "    # Matriz de rigidez do elemento retangular\n",
    "    k = t * a * b / 36 * np.array([\n",
    "        [4, 2, -1, -2, -2, -1, -1, 0],\n",
    "        [2, 4, 0, -1, -1, -2, -2, -1],\n",
    "        [-1, 0, 4, 2, 1, 0, -2, -1],\n",
    "        [-2, -1, 2, 4, 0, 1, -1, -2],\n",
    "        [-2, -1, 1, 0, 4, 2, -1, 0],\n",
    "        [-1, -2, 0, 1, 2, 4, 0, -1],\n",
    "        [-1, -2, -2, -1, -1, 0, 4, 2],\n",
    "        [0, -1, -1, -2, 0, -1, 2, 4]\n",
    "    ])\n",
    "\n",
    "    return k\n",
    "\n",
    "# Aplicando a matriz de rigidez para um elemento retangular\n",
    "K_rectangular = stiffness_matrix_rectangular(E, nu, t, a, b)\n",
    "print('Matriz de rigidez para um elemento retangular:')\n",
    "display(sp.Matrix(K_rectangular).evalf(3))"
   ]
  },
  {
   "cell_type": "markdown",
   "metadata": {},
   "source": [
    "#### Deslocamentos"
   ]
  },
  {
   "cell_type": "code",
   "execution_count": 31,
   "metadata": {},
   "outputs": [
    {
     "name": "stdout",
     "output_type": "stream",
     "text": [
      "Deslocamentos no elemento retangular:\n",
      "Nó 1: (-41.14285714, -7.71428571)\n",
      "Nó 2: (46.28571429, -113.14285714)\n",
      "Nó 3: (0.00000000, 0.00000000)\n",
      "Nó 4: (0.00000000, 0.00000000)\n"
     ]
    }
   ],
   "source": [
    "# Aplicando as condições de contorno (nós 3 e 4 fixos)\n",
    "fixed_nodes = [3, 4]\n",
    "free_dof_rect = np.setdiff1d(np.arange(2 * num_nodes), np.array([2 * (node - 1) for node in fixed_nodes] + [2 * node - 1 for node in fixed_nodes]))\n",
    "\n",
    "# Redução da matriz de rigidez e do vetor de forças para os graus de liberdade livres\n",
    "K_reduced_rect = K_rectangular[np.ix_(free_dof_rect, free_dof_rect)]\n",
    "\n",
    "# Vetor de forças externas (considerando a carga distribuída)\n",
    "F_rect = np.zeros(2 * num_nodes)\n",
    "# Aplicando a carga no nó 2 (direção y)\n",
    "F_rect[2 * 2 - 1] = -p * a * b / 2  # Carga dividida igualmente entre os nós 2 e 3\n",
    "\n",
    "# Redução do vetor de forças\n",
    "F_reduced_rect = F_rect[free_dof_rect]\n",
    "\n",
    "# Resolvendo o sistema para obter os deslocamentos nos graus de liberdade livres\n",
    "u_free_rect = np.linalg.solve(K_reduced_rect, F_reduced_rect)\n",
    "\n",
    "# Montagem do vetor de deslocamentos completo (incluindo zeros para graus de liberdade fixos)\n",
    "u_rect = np.zeros(2 * num_nodes)\n",
    "u_rect[free_dof_rect] = u_free_rect\n",
    "\n",
    "# Deslocamentos nos nós para o elemento retangular\n",
    "print('Deslocamentos no elemento retangular:')\n",
    "for node in range(num_nodes):\n",
    "    print('Nó {}: ({:.8f}, {:.8f})'.format(node + 1, u_rect[2 * node], u_rect[2 * node + 1]))"
   ]
  },
  {
   "cell_type": "markdown",
   "metadata": {},
   "source": [
    "#### Tensões"
   ]
  },
  {
   "cell_type": "code",
   "execution_count": 17,
   "metadata": {},
   "outputs": [
    {
     "name": "stdout",
     "output_type": "stream",
     "text": [
      "Tensões no elemento retangular: (3397959.18367347, 4040816.3265306125, -1063186.8131868134)\n"
     ]
    }
   ],
   "source": [
    "# Função para calcular as tensões em um elemento retangular\n",
    "def stress_rectangular(E, nu, u, a, b):\n",
    "    # Matriz de elasticidade plana\n",
    "    D = E / (1 - nu**2) * np.array([\n",
    "        [1, nu, 0],\n",
    "        [nu, 1, 0],\n",
    "        [0, 0, (1 - nu) / 2]\n",
    "    ])\n",
    "\n",
    "    # Gradientes de deslocamento\n",
    "    Bx = 1 / (2 * a) * np.array([-1, 1, 1, -1])\n",
    "    By = 1 / (2 * b) * np.array([-1, -1, 1, 1])\n",
    "\n",
    "    # Deslocamentos nos nós do elemento\n",
    "    u_x = u[::2]\n",
    "    u_y = u[1::2]\n",
    "\n",
    "    # Cálculo das deformações\n",
    "    epsilon_x = np.dot(Bx, u_x)\n",
    "    epsilon_y = np.dot(By, u_y)\n",
    "    gamma_xy = np.dot(Bx, u_y) + np.dot(By, u_x)\n",
    "\n",
    "    # Cálculo das tensões\n",
    "    stress = np.dot(D, np.array([epsilon_x, epsilon_y, gamma_xy]))\n",
    "\n",
    "    return stress\n",
    "\n",
    "# Calculando as tensões no elemento retangular\n",
    "stress_rect = stress_rectangular(E, nu, u_rect, a, b)\n",
    "print('Tensões no elemento retangular: ({:.3f}, {}, {})'.format(stress_rect[0], stress_rect[1], stress_rect[2]))\n"
   ]
  }
 ],
 "metadata": {
  "kernelspec": {
   "display_name": ".venv",
   "language": "python",
   "name": "python3"
  },
  "language_info": {
   "codemirror_mode": {
    "name": "ipython",
    "version": 3
   },
   "file_extension": ".py",
   "mimetype": "text/x-python",
   "name": "python",
   "nbconvert_exporter": "python",
   "pygments_lexer": "ipython3",
   "version": "3.10.12"
  }
 },
 "nbformat": 4,
 "nbformat_minor": 2
}
