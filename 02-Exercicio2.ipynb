{
 "cells": [
  {
   "cell_type": "markdown",
   "metadata": {},
   "source": [
    "# Exercício 2\n",
    "\n"
   ]
  },
  {
   "cell_type": "markdown",
   "metadata": {},
   "source": [
    "## Enunciado\n",
    "\n",
    "Para a viga em balanço da figura abaixo tratada como um problema de Estado Plano de Tensões determine a matriz de rigidez e o vetor de forças para as seguintes discretizações:\n",
    "\n",
    "a) Com 2 elementos triangulares lineares conforme mostrado nesta figura.\n",
    "\n",
    "b) Com 1 elemento retangular com os nós 1,2,3 e 4.\n",
    "\n",
    "Determine os deslocamentos livres considerando os nós 3 e 4 presos(deslocamentos nulos). \n",
    "\n",
    "Determine também os valores das tensões, segundo o sistema de eixos indicado nos pontos nodais e nos pontos centrais dos elementos considerados. Considere o carregamento indicado nesta figura com a distribuição de carga onde p = 150*(N+1)/20 . Adotar E (200.000) e Poisson(0.3) indicados na figura. Atente para trabalhar com unidades coerentes e que a espessura também está dada (t = 1). Utilize para as medidas do domínio o valor a = b = 4 + (N-1)/20\n"
   ]
  },
  {
   "cell_type": "markdown",
   "metadata": {},
   "source": [
    "![](ex2.png)"
   ]
  },
  {
   "cell_type": "markdown",
   "metadata": {},
   "source": [
    "## Resolução"
   ]
  },
  {
   "cell_type": "markdown",
   "metadata": {},
   "source": [
    "### Substituindo N\n",
    "\n",
    "Temos que $N = 1$, logo as dimensões do domínio serão:\n",
    "\n",
    "$$\n",
    "a = b = 4\n",
    "$$\n",
    "\n",
    "### Coordenadas dos nós\n",
    "\n",
    "* Nó 1: $(4,4)$\n",
    "* Nó 2: $(4,0)$\n",
    "* Nó 3: $(0,4)$\n",
    "* Nó 4: $(0,0)$"
   ]
  },
  {
   "cell_type": "markdown",
   "metadata": {},
   "source": [
    "### a) Elementos Triangulares"
   ]
  },
  {
   "cell_type": "markdown",
   "metadata": {},
   "source": [
    "#### Montagem da Matriz de Rigidez\n"
   ]
  },
  {
   "cell_type": "markdown",
   "metadata": {},
   "source": [
    "A matriz de rigidez $K$ de um elemento triangular em estado plano de tensões é calculada como:\n",
    "\n",
    "$$\n",
    "K = tAB^T DB\n",
    "$$\n",
    "\n",
    "onde:\n",
    "\n",
    "* $t$ é a espessura do elemento,\n",
    "* $A$ é a área do elemento triangular,\n",
    "* $B$ é a matriz de gradiente de deslocamento\n",
    "* $D$ é a matriz de elasticidade plana.\n",
    "\n",
    "A matriz $D$ é dada por:\n",
    "\n",
    "$$\n",
    "D = \\dfrac{E}{1 - \\nu^2}\n",
    "\n",
    "\\begin{bmatrix}\n",
    "1 & \\nu & 0 \\\\\n",
    "\\nu & 1 & 0 \\\\\n",
    "0 & 0 & \\dfrac{1 - \\nu}{2}\n",
    "\\end{bmatrix}\n",
    "$$\n",
    "\n",
    "A matriz $B$ para um elemento triangular é derivada das coordenadas dos nós do elemento e é dada por:\n",
    "\n",
    "$$\n",
    "B = \\dfrac{1}{2A} \n",
    "\n",
    "\\begin{bmatrix}\n",
    "b_1 & 0 & b_2 & 0 & b_3 & 0 \\\\\n",
    "0 & c_1 & 0 & c_2 & 0 & c_3 \\\\\n",
    "c_1 & b_1 & c_2 & b_2 & c_3 & b_3\n",
    "\\end{bmatrix}\n",
    "$$\n",
    "\n"
   ]
  },
  {
   "cell_type": "code",
   "execution_count": 18,
   "metadata": {},
   "outputs": [
    {
     "data": {
      "text/latex": [
       "$\\displaystyle \\left[\\begin{matrix}-3.85 \\cdot 10^{4} & -7.14 \\cdot 10^{4} & 3.85 \\cdot 10^{4} & 3.3 \\cdot 10^{4} & 0 & 7.14 \\cdot 10^{4} & 0 & -3.3 \\cdot 10^{4}\\\\-7.14 \\cdot 10^{4} & -1.1 \\cdot 10^{5} & 3.85 \\cdot 10^{4} & 1.1 \\cdot 10^{5} & 7.14 \\cdot 10^{4} & 0 & -3.85 \\cdot 10^{4} & 0\\\\3.85 \\cdot 10^{4} & 3.85 \\cdot 10^{4} & -3.85 \\cdot 10^{4} & 0 & 0 & -3.85 \\cdot 10^{4} & 0 & 0\\\\3.3 \\cdot 10^{4} & 1.1 \\cdot 10^{5} & 0 & -1.1 \\cdot 10^{5} & -3.3 \\cdot 10^{4} & 0 & 0 & 0\\\\0 & 7.14 \\cdot 10^{4} & 0 & -3.3 \\cdot 10^{4} & 3.85 \\cdot 10^{4} & -7.14 \\cdot 10^{4} & -3.85 \\cdot 10^{4} & 3.3 \\cdot 10^{4}\\\\7.14 \\cdot 10^{4} & 0 & -3.85 \\cdot 10^{4} & 0 & -7.14 \\cdot 10^{4} & 1.1 \\cdot 10^{5} & 3.85 \\cdot 10^{4} & -1.1 \\cdot 10^{5}\\\\0 & -3.85 \\cdot 10^{4} & 0 & 0 & -3.85 \\cdot 10^{4} & 3.85 \\cdot 10^{4} & 3.85 \\cdot 10^{4} & 0\\\\-3.3 \\cdot 10^{4} & 0 & 0 & 0 & 3.3 \\cdot 10^{4} & -1.1 \\cdot 10^{5} & 0 & 1.1 \\cdot 10^{5}\\end{matrix}\\right]$"
      ],
      "text/plain": [
       "Matrix([\n",
       "[-3.85e+4, -7.14e+4,  3.85e+4,  3.3e+4,        0,  7.14e+4,        0, -3.3e+4],\n",
       "[-7.14e+4,  -1.1e+5,  3.85e+4,  1.1e+5,  7.14e+4,        0, -3.85e+4,       0],\n",
       "[ 3.85e+4,  3.85e+4, -3.85e+4,       0,        0, -3.85e+4,        0,       0],\n",
       "[  3.3e+4,   1.1e+5,        0, -1.1e+5,  -3.3e+4,        0,        0,       0],\n",
       "[       0,  7.14e+4,        0, -3.3e+4,  3.85e+4, -7.14e+4, -3.85e+4,  3.3e+4],\n",
       "[ 7.14e+4,        0, -3.85e+4,       0, -7.14e+4,   1.1e+5,  3.85e+4, -1.1e+5],\n",
       "[       0, -3.85e+4,        0,       0, -3.85e+4,  3.85e+4,  3.85e+4,       0],\n",
       "[ -3.3e+4,        0,        0,       0,   3.3e+4,  -1.1e+5,        0,  1.1e+5]])"
      ]
     },
     "metadata": {},
     "output_type": "display_data"
    }
   ],
   "source": [
    "import numpy as np\n",
    "import sympy as sp\n",
    "\n",
    "\n",
    "# Propriedades do material\n",
    "E = 200000  # Módulo de elasticidade (N/mm²)\n",
    "nu = 0.3    # Coeficiente de Poisson\n",
    "t = 1       # Espessura da viga (mm)\n",
    "\n",
    "# Dimensões da viga\n",
    "a = b = 4   # Dimensões para N = 1\n",
    "\n",
    "# Carga aplicada\n",
    "p = 150 * (1 + 1) / 20\n",
    "\n",
    "# Coordenadas dos nós (em mm)\n",
    "nodes = np.array([\n",
    "    [a, b],  # Nó 1\n",
    "    [a, 0],  # Nó 2\n",
    "    [0, b],  # Nó 3\n",
    "    [0, 0],  # Nó 4\n",
    "])\n",
    "\n",
    "# Elementos (triângulos) definidos pelos nós\n",
    "elements = np.array([\n",
    "    [1, 2, 3],  # Elemento 1\n",
    "    [1, 3, 4]   # Elemento 2\n",
    "])\n",
    "\n",
    "# Número de nós e elementos\n",
    "num_nodes = len(nodes)\n",
    "num_elements = len(elements)\n",
    "\n",
    "# Função para calcular a matriz de rigidez de um elemento triangular linear\n",
    "def stiffness_matrix_triangle_linear(element, nodes, E, nu, t):\n",
    "    # Coordenadas dos nós do elemento\n",
    "    x = nodes[element - 1, 0]\n",
    "    y = nodes[element - 1, 1]\n",
    "\n",
    "    # Área do elemento\n",
    "    A = 0.5 * np.linalg.det(np.array([[1, x[0], y[0]],\n",
    "                                      [1, x[1], y[1]],\n",
    "                                      [1, x[2], y[2]]]))\n",
    "\n",
    "    # Matriz B\n",
    "    B = 1 / (2 * A) * np.array([\n",
    "        [y[1] - y[2], 0, y[2] - y[0], 0, y[0] - y[1], 0],\n",
    "        [0, x[2] - x[1], 0, x[0] - x[2], 0, x[1] - x[0]],\n",
    "        [x[2] - x[1], y[1] - y[2], x[0] - x[2], y[2] - y[0], x[1] - x[0], y[0] - y[1]]\n",
    "    ])\n",
    "\n",
    "    # Matriz de elasticidade plana\n",
    "    D = E / (1 - nu**2) * np.array([\n",
    "        [1, nu, 0],\n",
    "        [nu, 1, 0],\n",
    "        [0, 0, (1 - nu) / 2]\n",
    "    ])\n",
    "\n",
    "    # Matriz de rigidez do elemento\n",
    "    k = t * A * np.dot(np.dot(B.T, D), B)\n",
    "\n",
    "    return k\n",
    "\n",
    "# Inicialização da matriz de rigidez global\n",
    "K_global = np.zeros((2 * num_nodes, 2 * num_nodes))\n",
    "\n",
    "# Montagem da matriz de rigidez global\n",
    "for element in elements:\n",
    "    k_local = stiffness_matrix_triangle_linear(element, nodes, E, nu, t)\n",
    "    for i in range(3):\n",
    "        for j in range(3):\n",
    "            for k in range(2):\n",
    "                for l in range(2):\n",
    "                    K_global[2 * (element[i] - 1) + k, 2 * (element[j] - 1) + l] += k_local[2 * i + k, 2 * j + l]\n",
    "\n",
    "# Exibindo a matriz de rigidez global\n",
    "display(sp.Matrix(K_global).evalf(3))"
   ]
  },
  {
   "cell_type": "markdown",
   "metadata": {},
   "source": [
    "#### Solução do Sistema de Equações\n"
   ]
  },
  {
   "cell_type": "code",
   "execution_count": 20,
   "metadata": {},
   "outputs": [
    {
     "name": "stdout",
     "output_type": "stream",
     "text": [
      "Deslocamentos:\n",
      "Nó 1: (-0.0036399999999999887, -0.0031199999999999978)\n",
      "Nó 2: (-0.006759999999999988, -0.003119999999999995)\n",
      "Nó 3: (0.0, 0.0)\n",
      "Nó 4: (0.0, 0.0)\n"
     ]
    }
   ],
   "source": [
    "# Aplicação das condições de contorno (nós 3 e 4 fixos)\n",
    "fixed_nodes = [3, 4]\n",
    "free_dof = np.setdiff1d(np.arange(2 * num_nodes), np.array([2 * (node - 1) for node in fixed_nodes] + [2 * node - 1 for node in fixed_nodes]))\n",
    "\n",
    "# Redução da matriz de rigidez e do vetor de forças para os graus de liberdade livres\n",
    "K_reduced = K_global[np.ix_(free_dof, free_dof)]\n",
    "\n",
    "# Vetor de forças externas (considerando a carga distribuída)\n",
    "F = np.zeros(2 * num_nodes)\n",
    "# Aplicando a carga no nó 2 (direção y)\n",
    "F[2 * 2 - 1] = -p * a * b / 2  # Carga dividida igualmente entre os nós 2 e 3\n",
    "\n",
    "# Redução do vetor de forças\n",
    "F_reduced = F[free_dof]\n",
    "\n",
    "# Resolvendo o sistema para obter os deslocamentos nos graus de liberdade livres\n",
    "u_free = np.linalg.solve(K_reduced, F_reduced)\n",
    "\n",
    "# Montagem do vetor de deslocamentos completo (incluindo zeros para graus de liberdade fixos)\n",
    "u = np.zeros(2 * num_nodes)\n",
    "u[free_dof] = u_free\n",
    "\n",
    "print('Deslocamentos:')\n",
    "for node in range(num_nodes):\n",
    "    print('Nó {}: ({}, {})'.format(node + 1, u[2 * node], u[2 * node + 1]))\n"
   ]
  },
  {
   "cell_type": "markdown",
   "metadata": {},
   "source": [
    "#### Cálculo das Tensões"
   ]
  },
  {
   "cell_type": "code",
   "execution_count": 14,
   "metadata": {},
   "outputs": [
    {
     "name": "stdout",
     "output_type": "stream",
     "text": [
      "Tensões nos elementos:\n",
      "Elemento 1: (-5.592543275632488, 54.407456724367506, -5.592543275632486)\n",
      "Elemento 2: (1.6777629826897453, 5.592543275632484, 5.592543275632495)\n"
     ]
    }
   ],
   "source": [
    "def stress_triangle_linear(element, nodes, u, E, nu):\n",
    "    # Coordenadas dos nós do elemento\n",
    "    x = nodes[element - 1, 0]\n",
    "    y = nodes[element - 1, 1]\n",
    "\n",
    "    # Área do elemento\n",
    "    A = 0.5 * np.linalg.det(np.array([[1, x[0], y[0]],\n",
    "                                      [1, x[1], y[1]],\n",
    "                                      [1, x[2], y[2]]]))\n",
    "\n",
    "    # Matriz B\n",
    "    B = 1 / (2 * A) * np.array([\n",
    "        [y[1] - y[2], 0, y[2] - y[0], 0, y[0] - y[1], 0],\n",
    "        [0, x[2] - x[1], 0, x[0] - x[2], 0, x[1] - x[0]],\n",
    "        [x[2] - x[1], y[1] - y[2], x[0] - x[2], y[2] - y[0], x[1] - x[0], y[0] - y[1]]\n",
    "    ])\n",
    "\n",
    "    # Matriz de elasticidade plana\n",
    "    D = E / (1 - nu**2) * np.array([\n",
    "        [1, nu, 0],\n",
    "        [nu, 1, 0],\n",
    "        [0, 0, (1 - nu) / 2]\n",
    "    ])\n",
    "\n",
    "    # Vetor de deslocamentos do elemento\n",
    "    u_element = np.array([u[2 * (node - 1):2 * node] for node in element]).flatten()\n",
    "\n",
    "    # Cálculo das tensões\n",
    "    stress = np.dot(D, np.dot(B, u_element))\n",
    "\n",
    "    return stress\n",
    "\n",
    "# Correção e cálculo das tensões\n",
    "stresses = np.zeros((num_elements, 3))  # Inicializando o vetor de tensões\n",
    "\n",
    "# Cálculo das tensões para cada elemento\n",
    "for i, element in enumerate(elements):\n",
    "    stresses[i] = stress_triangle_linear(element, nodes, u, E, nu)\n",
    "\n",
    "print('Tensões nos elementos:')\n",
    "for element in range(num_elements):\n",
    "    print('Elemento {}: ({}, {}, {})'.format(element + 1, stresses[element, 0], stresses[element, 1], stresses[element, 2]))"
   ]
  },
  {
   "cell_type": "markdown",
   "metadata": {},
   "source": [
    "## b) Elemento Retangular"
   ]
  },
  {
   "cell_type": "code",
   "execution_count": 15,
   "metadata": {},
   "outputs": [
    {
     "data": {
      "text/latex": [
       "$\\displaystyle \\left[\\begin{matrix}-41.1 & 46.3 & 0 & 0\\\\-7.71 & -113.0 & 0 & 0\\end{matrix}\\right]$"
      ],
      "text/plain": [
       "Matrix([\n",
       "[-41.1,   46.3, 0, 0],\n",
       "[-7.71, -113.0, 0, 0]])"
      ]
     },
     "metadata": {},
     "output_type": "display_data"
    }
   ],
   "source": [
    "import numpy as np\n",
    "\n",
    "# Propriedades do material\n",
    "E = 200000  # Módulo de elasticidade (N/mm²)\n",
    "nu = 0.3    # Coeficiente de Poisson\n",
    "t = 1       # Espessura da viga (mm)\n",
    "\n",
    "# Dimensões da viga para N = 1\n",
    "a = b = 4   # Dimensões\n",
    "\n",
    "# Carga aplicada\n",
    "p = 150 * (1 + 1) / 20\n",
    "\n",
    "# Coordenadas dos nós (em mm)\n",
    "nodes = np.array([\n",
    "    [0, 0],  # Nó 1\n",
    "    [a, 0],  # Nó 2\n",
    "    [a, b],  # Nó 3\n",
    "    [0, b]   # Nó 4\n",
    "])\n",
    "\n",
    "# Número de nós\n",
    "num_nodes = len(nodes)\n",
    "\n",
    "# Função para calcular a matriz de rigidez de um elemento retangular\n",
    "def stiffness_matrix_rectangular(E, nu, t, a, b):\n",
    "    # Matriz de elasticidade plana\n",
    "    D = E / (1 - nu**2) * np.array([\n",
    "        [1, nu, 0],\n",
    "        [nu, 1, 0],\n",
    "        [0, 0, (1 - nu) / 2]\n",
    "    ])\n",
    "\n",
    "    # Matriz de rigidez do elemento retangular\n",
    "    k = t * a * b / 36 * np.array([\n",
    "        [4, 2, -1, -2, -2, -1, -1, 0],\n",
    "        [2, 4, 0, -1, -1, -2, -2, -1],\n",
    "        [-1, 0, 4, 2, 1, 0, -2, -1],\n",
    "        [-2, -1, 2, 4, 0, 1, -1, -2],\n",
    "        [-2, -1, 1, 0, 4, 2, -1, 0],\n",
    "        [-1, -2, 0, 1, 2, 4, 0, -1],\n",
    "        [-1, -2, -2, -1, -1, 0, 4, 2],\n",
    "        [0, -1, -1, -2, 0, -1, 2, 4]\n",
    "    ])\n",
    "\n",
    "    return k\n",
    "\n",
    "# Aplicando a matriz de rigidez para um elemento retangular\n",
    "K_rectangular = stiffness_matrix_rectangular(E, nu, t, a, b)\n",
    "\n",
    "# Aplicando as condições de contorno (nós 3 e 4 fixos)\n",
    "fixed_nodes = [3, 4]\n",
    "free_dof_rect = np.setdiff1d(np.arange(2 * num_nodes), np.array([2 * (node - 1) for node in fixed_nodes] + [2 * node - 1 for node in fixed_nodes]))\n",
    "\n",
    "# Redução da matriz de rigidez e do vetor de forças para os graus de liberdade livres\n",
    "K_reduced_rect = K_rectangular[np.ix_(free_dof_rect, free_dof_rect)]\n",
    "\n",
    "# Vetor de forças externas (considerando a carga distribuída)\n",
    "F_rect = np.zeros(2 * num_nodes)\n",
    "# Aplicando a carga no nó 2 (direção y)\n",
    "F_rect[2 * 2 - 1] = -p * a * b / 2  # Carga dividida igualmente entre os nós 2 e 3\n",
    "\n",
    "# Redução do vetor de forças\n",
    "F_reduced_rect = F_rect[free_dof_rect]\n",
    "\n",
    "# Resolvendo o sistema para obter os deslocamentos nos graus de liberdade livres\n",
    "u_free_rect = np.linalg.solve(K_reduced_rect, F_reduced_rect)\n",
    "\n",
    "# Montagem do vetor de deslocamentos completo (incluindo zeros para graus de liberdade fixos)\n",
    "u_rect = np.zeros(2 * num_nodes)\n",
    "u_rect[free_dof_rect] = u_free_rect\n",
    "\n",
    "# Deslocamentos nos nós para o elemento retangular\n",
    "display(sp.Matrix(u_rect.reshape((num_nodes, 2)).T).evalf(3))"
   ]
  },
  {
   "cell_type": "code",
   "execution_count": 17,
   "metadata": {},
   "outputs": [
    {
     "name": "stdout",
     "output_type": "stream",
     "text": [
      "Tensões no elemento retangular: (3397959.18367347, 4040816.3265306125, -1063186.8131868134)\n"
     ]
    }
   ],
   "source": [
    "# Função para calcular as tensões em um elemento retangular\n",
    "def stress_rectangular(E, nu, u, a, b):\n",
    "    # Matriz de elasticidade plana\n",
    "    D = E / (1 - nu**2) * np.array([\n",
    "        [1, nu, 0],\n",
    "        [nu, 1, 0],\n",
    "        [0, 0, (1 - nu) / 2]\n",
    "    ])\n",
    "\n",
    "    # Gradientes de deslocamento\n",
    "    Bx = 1 / (2 * a) * np.array([-1, 1, 1, -1])\n",
    "    By = 1 / (2 * b) * np.array([-1, -1, 1, 1])\n",
    "\n",
    "    # Deslocamentos nos nós do elemento\n",
    "    u_x = u[::2]\n",
    "    u_y = u[1::2]\n",
    "\n",
    "    # Cálculo das deformações\n",
    "    epsilon_x = np.dot(Bx, u_x)\n",
    "    epsilon_y = np.dot(By, u_y)\n",
    "    gamma_xy = np.dot(Bx, u_y) + np.dot(By, u_x)\n",
    "\n",
    "    # Cálculo das tensões\n",
    "    stress = np.dot(D, np.array([epsilon_x, epsilon_y, gamma_xy]))\n",
    "\n",
    "    return stress\n",
    "\n",
    "# Calculando as tensões no elemento retangular\n",
    "stress_rect = stress_rectangular(E, nu, u_rect, a, b)\n",
    "print('Tensões no elemento retangular: ({:.3f}, {}, {})'.format(stress_rect[0], stress_rect[1], stress_rect[2]))\n"
   ]
  }
 ],
 "metadata": {
  "kernelspec": {
   "display_name": ".venv",
   "language": "python",
   "name": "python3"
  },
  "language_info": {
   "codemirror_mode": {
    "name": "ipython",
    "version": 3
   },
   "file_extension": ".py",
   "mimetype": "text/x-python",
   "name": "python",
   "nbconvert_exporter": "python",
   "pygments_lexer": "ipython3",
   "version": "3.10.12"
  }
 },
 "nbformat": 4,
 "nbformat_minor": 2
}
